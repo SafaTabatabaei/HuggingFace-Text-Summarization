{
 "cells": [
  {
   "cell_type": "code",
   "execution_count": 1,
   "metadata": {},
   "outputs": [
    {
     "name": "stderr",
     "output_type": "stream",
     "text": [
      "No model was supplied, defaulted to sshleifer/distilbart-cnn-12-6 and revision a4f8f3e (https://huggingface.co/sshleifer/distilbart-cnn-12-6).\n",
      "Using a pipeline without specifying a model name and revision in production is not recommended.\n"
     ]
    },
    {
     "name": "stdout",
     "output_type": "stream",
     "text": [
      "Hugging Face Transformers pipeline loaded.\n"
     ]
    },
    {
     "data": {
      "application/vnd.jupyter.widget-view+json": {
       "model_id": "d862e3f730e24a34ae44d8f099048291",
       "version_major": 2,
       "version_minor": 0
      },
      "text/plain": [
       "config.json: 0.00B [00:00, ?B/s]"
      ]
     },
     "metadata": {},
     "output_type": "display_data"
    },
    {
     "data": {
      "application/vnd.jupyter.widget-view+json": {
       "model_id": "18032d07624a471698d2bae0165493f5",
       "version_major": 2,
       "version_minor": 0
      },
      "text/plain": [
       "pytorch_model.bin:   0%|          | 0.00/1.22G [00:00<?, ?B/s]"
      ]
     },
     "metadata": {},
     "output_type": "display_data"
    },
    {
     "data": {
      "application/vnd.jupyter.widget-view+json": {
       "model_id": "349a3546253a49abaaf8a1485bd75c18",
       "version_major": 2,
       "version_minor": 0
      },
      "text/plain": [
       "tokenizer_config.json:   0%|          | 0.00/26.0 [00:00<?, ?B/s]"
      ]
     },
     "metadata": {},
     "output_type": "display_data"
    },
    {
     "data": {
      "application/vnd.jupyter.widget-view+json": {
       "model_id": "410d9597c3014b84a8b566b6bd41d90e",
       "version_major": 2,
       "version_minor": 0
      },
      "text/plain": [
       "vocab.json: 0.00B [00:00, ?B/s]"
      ]
     },
     "metadata": {},
     "output_type": "display_data"
    },
    {
     "data": {
      "application/vnd.jupyter.widget-view+json": {
       "model_id": "edd424aea86b42c980bc61e864ad8657",
       "version_major": 2,
       "version_minor": 0
      },
      "text/plain": [
       "merges.txt: 0.00B [00:00, ?B/s]"
      ]
     },
     "metadata": {},
     "output_type": "display_data"
    },
    {
     "name": "stdout",
     "output_type": "stream",
     "text": [
      "\n",
      "Default summarization pipeline initialized.\n"
     ]
    },
    {
     "data": {
      "application/vnd.jupyter.widget-view+json": {
       "model_id": "51eb5af9a647453baac3624aa9d13568",
       "version_major": 2,
       "version_minor": 0
      },
      "text/plain": [
       "model.safetensors:   0%|          | 0.00/1.22G [00:00<?, ?B/s]"
      ]
     },
     "metadata": {},
     "output_type": "display_data"
    }
   ],
   "source": [
    "from transformers import pipeline\n",
    "\n",
    "print(\"Hugging Face Transformers pipeline loaded.\")\n",
    "\n",
    "# Option 1: Use a general summarization pipeline (recommended for simplicity)\n",
    "# This will automatically pick a suitable model (e.g., 'sshleifer/distilbart-cnn-12-6')\n",
    "summarizer = pipeline(\"summarization\")\n",
    "print(\"\\nDefault summarization pipeline initialized.\")\n",
    "\n",
    "# Option 2: Specify a particular model (e.g., if you want more control or a different language)\n",
    "# from transformers import AutoTokenizer, AutoModelForSeq2SeqLM\n",
    "\n",
    "# model_name = \"facebook/bart-large-cnn\" # Good general purpose model for summarization\n",
    "# # model_name = \"t5-base\" # Another strong option\n",
    "# tokenizer = AutoTokenizer.from_pretrained(model_name)\n",
    "# model = AutoModelForSeq2SeqLM.from_pretrained(model_name)\n",
    "# print(f\"\\nSpecific model '{model_name}' loaded.\")\n",
    "\n",
    "# You would then pass the tokenizer and model to the pipeline if not using the default one:\n",
    "# summarizer = pipeline(\"summarization\", model=model, tokenizer=tokenizer)"
   ]
  },
  {
   "cell_type": "code",
   "execution_count": 2,
   "metadata": {},
   "outputs": [
    {
     "name": "stdout",
     "output_type": "stream",
     "text": [
      "Example texts prepared.\n"
     ]
    }
   ],
   "source": [
    "# Example long texts\n",
    "text1 = \"\"\"\n",
    "The rapid advancements in artificial intelligence are reshaping various industries, from healthcare to finance. In healthcare, AI is being used for drug discovery, personalized treatment plans, and even predicting disease outbreaks. Financial institutions are leveraging AI for fraud detection, algorithmic trading, and risk assessment. However, the ethical implications of AI, such as bias in algorithms and job displacement, are critical concerns that need to be addressed as the technology continues to evolve. Researchers are actively working on developing fair and transparent AI systems, but striking a balance between innovation and responsibility remains a significant challenge. The future of AI promises immense benefits, but careful consideration of its societal impact is paramount.\n",
    "\"\"\"\n",
    "\n",
    "text2 = \"\"\"\n",
    "Scientists have made a groundbreaking discovery regarding the potential for life on Europa, one of Jupiter's largest moons. New data from recent probes suggests the presence of vast subsurface oceans, kept liquid by tidal forces generated by Jupiter's immense gravitational pull. These oceans are believed to contain essential chemical elements necessary for life, similar to those found in hydrothermal vents on Earth's ocean floor. While no direct evidence of life has been found yet, the conditions make Europa a prime candidate for astrobiological research. Future missions are being planned to further explore these findings and potentially sample the subsurface water. This discovery significantly broadens our understanding of habitable environments beyond Earth and fuels the search for extraterrestrial life within our solar system.\n",
    "\"\"\"\n",
    "\n",
    "text3 = \"\"\"\n",
    "Natural language processing (NLP) is a subfield of artificial intelligence, allowing computers to understand, interpret, and generate human language. Its applications are vast, ranging from spam detection and sentiment analysis to machine translation and chatbots. Recent breakthroughs, particularly with transformer models like BERT, GPT, and T5, have revolutionized NLP, enabling models to grasp context and nuances of language far better than previous methods. This has led to more accurate translations, highly intelligent conversational agents, and improved information retrieval systems. However, challenges remain, especially in handling sarcasm, irony, and the complexities of human communication in diverse languages. The ongoing research in NLP aims to bridge the gap between human and machine understanding of language, paving the way for more intuitive and effective human-computer interaction.\n",
    "\"\"\"\n",
    "\n",
    "print(\"Example texts prepared.\")"
   ]
  },
  {
   "cell_type": "code",
   "execution_count": 6,
   "metadata": {},
   "outputs": [
    {
     "name": "stdout",
     "output_type": "stream",
     "text": [
      "\n",
      "--- Summarizing Text 1 ---\n",
      "Original Text Length: 111 words\n",
      "Summary 1:  The rapid advancements in artificial intelligence are reshaping various industries, from healthcare to finance . In healthcare, AI is being used for drug discovery, personalized treatment plans, and even predicting disease outbreaks . Financial institutions are leveraging AI for fraud detection, algorithmic trading, and risk assessment .\n",
      "Summary 1 Length: 47 words\n",
      "\n",
      "--- Summarizing Text 2 ---\n",
      "Original Text Length: 122 words\n",
      "Summary 2:  New data suggests the presence of vast subsurface oceans, kept liquid by tidal forces generated by Jupiter's immense gravitational pull . These oceans are believed to contain essential chemical elements necessary for life, similar to those found in hydrothermal vents on Earth's ocean floor .\n",
      "Summary 2 Length: 45 words\n",
      "\n",
      "--- Summarizing Text 3 ---\n",
      "Original Text Length: 123 words\n",
      "Summary 3:  Natural language processing (NLP) is a subfield of artificial intelligence, allowing computers to understand, interpret, and generate human language . Applications range from spam detection and sentiment analysis to machine translation and chatbots .\n",
      "Summary 3 Length: 34 words\n"
     ]
    }
   ],
   "source": [
    "# Generate summary for text1\n",
    "print(\"\\n--- Summarizing Text 1 ---\")\n",
    "summary1 = summarizer(text1, max_length=100, min_length=30, do_sample=False)\n",
    "print(f\"Original Text Length: {len(text1.split())} words\")\n",
    "print(f\"Summary 1: {summary1[0]['summary_text']}\")\n",
    "print(f\"Summary 1 Length: {len(summary1[0]['summary_text'].split())} words\")\n",
    "\n",
    "\n",
    "# Generate summary for text2\n",
    "print(\"\\n--- Summarizing Text 2 ---\")\n",
    "summary2 = summarizer(text2, max_length=100, min_length=30, do_sample=False)\n",
    "print(f\"Original Text Length: {len(text2.split())} words\")\n",
    "print(f\"Summary 2: {summary2[0]['summary_text']}\")\n",
    "print(f\"Summary 2 Length: {len(summary2[0]['summary_text'].split())} words\")\n",
    "\n",
    "# Generate summary for text3\n",
    "print(\"\\n--- Summarizing Text 3 ---\")\n",
    "summary3 = summarizer(text3, max_length=100, min_length=30, do_sample=False)\n",
    "print(f\"Original Text Length: {len(text3.split())} words\")\n",
    "print(f\"Summary 3: {summary3[0]['summary_text']}\")\n",
    "print(f\"Summary 3 Length: {len(summary3[0]['summary_text'].split())} words\")"
   ]
  },
  {
   "cell_type": "code",
   "execution_count": 7,
   "metadata": {},
   "outputs": [
    {
     "name": "stdout",
     "output_type": "stream",
     "text": [
      "\n",
      "--- Comparison ---\n",
      "\n",
      "Original Text 1:\n",
      "\n",
      "The rapid advancements in artificial intelligence are reshaping various industries, from healthcare to finance. In healthcare, AI is being used for drug discovery, personalized treatment plans, and even predicting disease outbreaks. Financial institutions are leveraging AI for fraud detection, algorithmic trading, and risk assessment. However, the ethical implications of AI, such as bias in algorithms and job displacement, are critical concerns that need to be addressed as the technology continues to evolve. Researchers are actively working on developing fair and transparent AI systems, but striking a balance between innovation and responsibility remains a significant challenge. The future of AI promises immense benefits, but careful consideration of its societal impact is paramount.\n",
      "\n",
      "\n",
      "Generated Summary 1:\n",
      " The rapid advancements in artificial intelligence are reshaping various industries, from healthcare to finance . In healthcare, AI is being used for drug discovery, personalized treatment plans, and even predicting disease outbreaks . Financial institutions are leveraging AI for fraud detection, algorithmic trading, and risk assessment .\n",
      "\n",
      "--------------------\n",
      "\n",
      "Original Text 2:\n",
      "\n",
      "Scientists have made a groundbreaking discovery regarding the potential for life on Europa, one of Jupiter's largest moons. New data from recent probes suggests the presence of vast subsurface oceans, kept liquid by tidal forces generated by Jupiter's immense gravitational pull. These oceans are believed to contain essential chemical elements necessary for life, similar to those found in hydrothermal vents on Earth's ocean floor. While no direct evidence of life has been found yet, the conditions make Europa a prime candidate for astrobiological research. Future missions are being planned to further explore these findings and potentially sample the subsurface water. This discovery significantly broadens our understanding of habitable environments beyond Earth and fuels the search for extraterrestrial life within our solar system.\n",
      "\n",
      "\n",
      "Generated Summary 2:\n",
      " New data suggests the presence of vast subsurface oceans, kept liquid by tidal forces generated by Jupiter's immense gravitational pull . These oceans are believed to contain essential chemical elements necessary for life, similar to those found in hydrothermal vents on Earth's ocean floor .\n",
      "\n",
      "--------------------\n",
      "\n",
      "Original Text 3:\n",
      "\n",
      "Natural language processing (NLP) is a subfield of artificial intelligence, allowing computers to understand, interpret, and generate human language. Its applications are vast, ranging from spam detection and sentiment analysis to machine translation and chatbots. Recent breakthroughs, particularly with transformer models like BERT, GPT, and T5, have revolutionized NLP, enabling models to grasp context and nuances of language far better than previous methods. This has led to more accurate translations, highly intelligent conversational agents, and improved information retrieval systems. However, challenges remain, especially in handling sarcasm, irony, and the complexities of human communication in diverse languages. The ongoing research in NLP aims to bridge the gap between human and machine understanding of language, paving the way for more intuitive and effective human-computer interaction.\n",
      "\n",
      "\n",
      "Generated Summary 3:\n",
      " Natural language processing (NLP) is a subfield of artificial intelligence, allowing computers to understand, interpret, and generate human language . Applications range from spam detection and sentiment analysis to machine translation and chatbots .\n"
     ]
    }
   ],
   "source": [
    "print(\"\\n--- Comparison ---\")\n",
    "\n",
    "print(\"\\nOriginal Text 1:\")\n",
    "print(text1)\n",
    "print(\"\\nGenerated Summary 1:\")\n",
    "print(summary1[0]['summary_text'])\n",
    "\n",
    "print(\"\\n--------------------\")\n",
    "\n",
    "print(\"\\nOriginal Text 2:\")\n",
    "print(text2)\n",
    "print(\"\\nGenerated Summary 2:\")\n",
    "print(summary2[0]['summary_text'])\n",
    "\n",
    "print(\"\\n--------------------\")\n",
    "\n",
    "print(\"\\nOriginal Text 3:\")\n",
    "print(text3)\n",
    "print(\"\\nGenerated Summary 3:\")\n",
    "print(summary3[0]['summary_text'])"
   ]
  }
 ],
 "metadata": {
  "kernelspec": {
   "display_name": "Python 3",
   "language": "python",
   "name": "python3"
  },
  "language_info": {
   "codemirror_mode": {
    "name": "ipython",
    "version": 3
   },
   "file_extension": ".py",
   "mimetype": "text/x-python",
   "name": "python",
   "nbconvert_exporter": "python",
   "pygments_lexer": "ipython3",
   "version": "3.8.8"
  }
 },
 "nbformat": 4,
 "nbformat_minor": 2
}
